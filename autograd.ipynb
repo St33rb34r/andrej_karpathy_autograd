{
 "cells": [
  {
   "cell_type": "code",
   "execution_count": 1,
   "id": "89ff6087",
   "metadata": {},
   "outputs": [],
   "source": [
    "import math\n",
    "import numpy as np\n",
    "import matplotlib.pyplot as plt\n",
    "%matplotlib inline"
   ]
  },
  {
   "cell_type": "code",
   "execution_count": 183,
   "id": "e04f1428",
   "metadata": {},
   "outputs": [],
   "source": [
    "class Value:\n",
    "    \n",
    "    def __init__(self, data, _children=(), _op=''):\n",
    "        self.data = data\n",
    "        self.grad = 0\n",
    "        self._prev = set(_children)\n",
    "        self._op = _op\n",
    "        \n",
    "    def __repr__(self):\n",
    "        return f\"Value(data={self.data})\"\n",
    "    \n",
    "    def __add__(self, value):\n",
    "        out = Value(self.data + value.data, (self, value), '+')\n",
    "        return out\n",
    "    \n",
    "    def __mul__(self, value):\n",
    "        out = Value(self.data * value.data, (self, value), '*')\n",
    "        return out\n",
    "    \n",
    "    def __sub__(self, value):\n",
    "        out = Value(self.data - value.data, (self, value), '-')\n",
    "        return out\n",
    "    \n",
    "    def __truediv__(self, value):\n",
    "        out = Value(self.data / value.data, (self, value), '/')\n",
    "        return out\n",
    "    \n",
    "    def backward(self, earlier_derivative=None):\n",
    "        \n",
    "        if len(self._prev) > 0:\n",
    "            child1, child2 = self._prev\n",
    "            \n",
    "            if self._op == '+':\n",
    "                child1.grad += 1\n",
    "                child2.grad += 1\n",
    "                \n",
    "            elif self._op == '*':\n",
    "                child1.grad += child2.data\n",
    "                child2.grad += child1.data\n",
    "                \n",
    "            elif self._op == '-':\n",
    "                child1.grad += 1\n",
    "                child2.grad += -1\n",
    "                \n",
    "            elif self._op == '/':\n",
    "                child2.grad += 1 / child1.data\n",
    "                child1.grad += - child2.data / (child1.data * child1.data)\n",
    "                \n",
    "            #elif self._op == '**':\n",
    "            #    child1._grad \n",
    "            \n",
    "            if earlier_derivative:\n",
    "                child1.grad *= earlier_derivative\n",
    "                child2.grad *= earlier_derivative\n",
    "            \n",
    "            if len(child1._prev) > 0:\n",
    "                child1.backward(child1.grad)\n",
    "                \n",
    "            if len(child2._prev) > 0:\n",
    "                child2.backward(child2.grad)\n",
    "                \n",
    "\n",
    "                \n",
    "    def zero_grad(self):\n",
    "        \n",
    "        if len(self._prev) > 0:\n",
    "            child1, child2 = self._prev\n",
    "            child1.grad, child2.grad = 0, 0\n",
    "            \n",
    "            if len(child1._prev) > 0:\n",
    "                child1.zero_grad()\n",
    "                \n",
    "            if len(child2._prev) > 0:\n",
    "                child2.zero_grad()"
   ]
  },
  {
   "cell_type": "code",
   "execution_count": 184,
   "id": "d85ded7c",
   "metadata": {},
   "outputs": [],
   "source": [
    "e = Value(3)\n",
    "b = Value(5)\n",
    "c = Value(-3)\n",
    "d = Value(1)\n",
    "\n",
    "a = b + c\n",
    "d = e*c\n",
    "\n",
    "L = a + d\n"
   ]
  },
  {
   "cell_type": "code",
   "execution_count": 185,
   "id": "a69b44bf",
   "metadata": {},
   "outputs": [],
   "source": [
    "L.backward()"
   ]
  },
  {
   "cell_type": "code",
   "execution_count": 186,
   "id": "3da6aa11",
   "metadata": {},
   "outputs": [
    {
     "data": {
      "text/plain": [
       "4"
      ]
     },
     "execution_count": 186,
     "metadata": {},
     "output_type": "execute_result"
    }
   ],
   "source": [
    "c.grad\n"
   ]
  },
  {
   "cell_type": "code",
   "execution_count": 144,
   "id": "4f1c7f78",
   "metadata": {},
   "outputs": [
    {
     "data": {
      "text/plain": [
       "15"
      ]
     },
     "execution_count": 144,
     "metadata": {},
     "output_type": "execute_result"
    }
   ],
   "source": [
    "f.grad"
   ]
  },
  {
   "cell_type": "code",
   "execution_count": 172,
   "id": "a1f124f4",
   "metadata": {},
   "outputs": [],
   "source": [
    "a = Value(3)\n",
    "b = Value(6)"
   ]
  },
  {
   "cell_type": "code",
   "execution_count": 173,
   "id": "19f28da1",
   "metadata": {},
   "outputs": [],
   "source": [
    "c = a / b"
   ]
  },
  {
   "cell_type": "code",
   "execution_count": 174,
   "id": "da04403e",
   "metadata": {},
   "outputs": [
    {
     "data": {
      "text/plain": [
       "Value(data=0.5)"
      ]
     },
     "execution_count": 174,
     "metadata": {},
     "output_type": "execute_result"
    }
   ],
   "source": [
    "c"
   ]
  },
  {
   "cell_type": "code",
   "execution_count": 175,
   "id": "572cc5d4",
   "metadata": {},
   "outputs": [],
   "source": [
    "c.backward()"
   ]
  },
  {
   "cell_type": "code",
   "execution_count": 176,
   "id": "4d5f1ad5",
   "metadata": {},
   "outputs": [
    {
     "data": {
      "text/plain": [
       "0.16666666666666666"
      ]
     },
     "execution_count": 176,
     "metadata": {},
     "output_type": "execute_result"
    }
   ],
   "source": [
    "a.grad"
   ]
  },
  {
   "cell_type": "code",
   "execution_count": 177,
   "id": "0501c967",
   "metadata": {},
   "outputs": [
    {
     "data": {
      "text/plain": [
       "-0.08333333333333333"
      ]
     },
     "execution_count": 177,
     "metadata": {},
     "output_type": "execute_result"
    }
   ],
   "source": [
    "b.grad"
   ]
  },
  {
   "cell_type": "code",
   "execution_count": 121,
   "id": "66f6e18c",
   "metadata": {},
   "outputs": [
    {
     "data": {
      "text/plain": [
       "-3.0"
      ]
     },
     "execution_count": 121,
     "metadata": {},
     "output_type": "execute_result"
    }
   ],
   "source": [
    "-0.12*25"
   ]
  },
  {
   "cell_type": "code",
   "execution_count": 122,
   "id": "4a1e065b",
   "metadata": {},
   "outputs": [
    {
     "data": {
      "text/plain": [
       "-0.12"
      ]
     },
     "execution_count": 122,
     "metadata": {},
     "output_type": "execute_result"
    }
   ],
   "source": [
    "-3/25"
   ]
  },
  {
   "cell_type": "code",
   "execution_count": null,
   "id": "034ef17d",
   "metadata": {},
   "outputs": [],
   "source": []
  }
 ],
 "metadata": {
  "kernelspec": {
   "display_name": "Python 3 (ipykernel)",
   "language": "python",
   "name": "python3"
  },
  "language_info": {
   "codemirror_mode": {
    "name": "ipython",
    "version": 3
   },
   "file_extension": ".py",
   "mimetype": "text/x-python",
   "name": "python",
   "nbconvert_exporter": "python",
   "pygments_lexer": "ipython3",
   "version": "3.8.9"
  }
 },
 "nbformat": 4,
 "nbformat_minor": 5
}
