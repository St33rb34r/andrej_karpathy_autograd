{
 "cells": [
  {
   "cell_type": "code",
   "execution_count": 1,
   "id": "b38debad",
   "metadata": {},
   "outputs": [],
   "source": [
    "import math\n",
    "import numpy as np\n",
    "import matplotlib.pyplot as plt\n",
    "%matplotlib inline"
   ]
  },
  {
   "cell_type": "code",
   "execution_count": 161,
   "id": "ef8806be",
   "metadata": {},
   "outputs": [],
   "source": [
    "class Value:\n",
    "    \n",
    "    def __init__(self, data, _children=(), _op=''):\n",
    "        self.data = data\n",
    "        self.grad = 0\n",
    "        self._prev = set(_children)\n",
    "        self._op = _op\n",
    "        \n",
    "    def __repr__(self):\n",
    "        return f\"Value(data={self.data})\"\n",
    "    \n",
    "    def __add__(self, value):\n",
    "        out = Value(self.data + value.data, (self, value), '+')\n",
    "        return out\n",
    "    \n",
    "    def __mul__(self, value):\n",
    "        out = Value(self.data * value.data, (self, value), '*')\n",
    "        return out\n",
    "    \n",
    "    def __sub__(self, value):\n",
    "        out = Value(self.data - value.data, (self, value), '-')\n",
    "        return out\n",
    "    \n",
    "    def __truediv__(self, value):\n",
    "        out = Value(self.data / value.data, (self, value), '/')\n",
    "        return out\n",
    "    \n",
    "    def backward(self, earlier_derivative=None):\n",
    "        \n",
    "        if len(self._prev) > 0:\n",
    "            child1, child2 = self._prev\n",
    "            \n",
    "            if self._op == '+':\n",
    "                child1.grad = 1\n",
    "                child2.grad = 1\n",
    "                \n",
    "            elif self._op == '*':\n",
    "                child1.grad = child2.data\n",
    "                child2.grad = child1.data\n",
    "                \n",
    "            elif self._op == '-':\n",
    "                child1.grad = 1\n",
    "                child2.grad = -1\n",
    "                \n",
    "            elif self._op == '/':\n",
    "                child2.grad = 1 / child1.data\n",
    "                child1.grad = - child2.data / (child1.data * child1.data)\n",
    "                \n",
    "            #elif self._op == '**':\n",
    "            #    child1._grad \n",
    "            \n",
    "            if earlier_derivative:\n",
    "                child1.grad *= earlier_derivative\n",
    "                child2.grad *= earlier_derivative\n",
    "            \n",
    "            if len(child1._prev) > 0:\n",
    "                child1.backward(child1.grad)\n",
    "                \n",
    "            if len(child2._prev) > 0:\n",
    "                child2.backward(child2.grad)\n",
    "                \n",
    "\n",
    "                \n",
    "    def zero_grad(self):\n",
    "        \n",
    "        if len(self._prev) > 0:\n",
    "            child1, child2 = self._prev\n",
    "            child1.grad, child2.grad = 0, 0\n",
    "            \n",
    "            if len(child1._prev) > 0:\n",
    "                child1.zero_grad()\n",
    "                \n",
    "            if len(child2._prev) > 0:\n",
    "                child2.zero_grad()"
   ]
  },
  {
   "cell_type": "code",
   "execution_count": 162,
   "id": "d54c51cd",
   "metadata": {},
   "outputs": [],
   "source": [
    "a = Value(3)\n",
    "b = Value(5)\n",
    "c = Value(-3)\n",
    "d = Value(1)\n",
    "\n",
    "e = a * b\n",
    "f = d + c\n",
    "\n",
    "L = e * f\n"
   ]
  },
  {
   "cell_type": "code",
   "execution_count": 163,
   "id": "32899b72",
   "metadata": {},
   "outputs": [],
   "source": [
    "L.backward()"
   ]
  },
  {
   "cell_type": "code",
   "execution_count": 171,
   "id": "8f170781",
   "metadata": {},
   "outputs": [
    {
     "data": {
      "text/plain": [
       "15"
      ]
     },
     "execution_count": 171,
     "metadata": {},
     "output_type": "execute_result"
    }
   ],
   "source": [
    "d.grad\n"
   ]
  },
  {
   "cell_type": "code",
   "execution_count": 144,
   "id": "ec622515",
   "metadata": {},
   "outputs": [
    {
     "data": {
      "text/plain": [
       "15"
      ]
     },
     "execution_count": 144,
     "metadata": {},
     "output_type": "execute_result"
    }
   ],
   "source": [
    "f.grad"
   ]
  },
  {
   "cell_type": "code",
   "execution_count": 172,
   "id": "571a3706",
   "metadata": {},
   "outputs": [],
   "source": [
    "a = Value(3)\n",
    "b = Value(6)"
   ]
  },
  {
   "cell_type": "code",
   "execution_count": 173,
   "id": "fc86f4b7",
   "metadata": {},
   "outputs": [],
   "source": [
    "c = a / b"
   ]
  },
  {
   "cell_type": "code",
   "execution_count": 174,
   "id": "5180b374",
   "metadata": {},
   "outputs": [
    {
     "data": {
      "text/plain": [
       "Value(data=0.5)"
      ]
     },
     "execution_count": 174,
     "metadata": {},
     "output_type": "execute_result"
    }
   ],
   "source": [
    "c"
   ]
  },
  {
   "cell_type": "code",
   "execution_count": 175,
   "id": "cf6fa726",
   "metadata": {},
   "outputs": [],
   "source": [
    "c.backward()"
   ]
  },
  {
   "cell_type": "code",
   "execution_count": 176,
   "id": "43ae1d08",
   "metadata": {},
   "outputs": [
    {
     "data": {
      "text/plain": [
       "0.16666666666666666"
      ]
     },
     "execution_count": 176,
     "metadata": {},
     "output_type": "execute_result"
    }
   ],
   "source": [
    "a.grad"
   ]
  },
  {
   "cell_type": "code",
   "execution_count": 177,
   "id": "064494d4",
   "metadata": {},
   "outputs": [
    {
     "data": {
      "text/plain": [
       "-0.08333333333333333"
      ]
     },
     "execution_count": 177,
     "metadata": {},
     "output_type": "execute_result"
    }
   ],
   "source": [
    "b.grad"
   ]
  },
  {
   "cell_type": "code",
   "execution_count": 121,
   "id": "9afebef3",
   "metadata": {},
   "outputs": [
    {
     "data": {
      "text/plain": [
       "-3.0"
      ]
     },
     "execution_count": 121,
     "metadata": {},
     "output_type": "execute_result"
    }
   ],
   "source": [
    "-0.12*25"
   ]
  },
  {
   "cell_type": "code",
   "execution_count": 122,
   "id": "458eb2f5",
   "metadata": {},
   "outputs": [
    {
     "data": {
      "text/plain": [
       "-0.12"
      ]
     },
     "execution_count": 122,
     "metadata": {},
     "output_type": "execute_result"
    }
   ],
   "source": [
    "-3/25"
   ]
  },
  {
   "cell_type": "code",
   "execution_count": null,
   "id": "06156ab9",
   "metadata": {},
   "outputs": [],
   "source": []
  }
 ],
 "metadata": {
  "kernelspec": {
   "display_name": "Python 3 (ipykernel)",
   "language": "python",
   "name": "python3"
  },
  "language_info": {
   "codemirror_mode": {
    "name": "ipython",
    "version": 3
   },
   "file_extension": ".py",
   "mimetype": "text/x-python",
   "name": "python",
   "nbconvert_exporter": "python",
   "pygments_lexer": "ipython3",
   "version": "3.8.9"
  }
 },
 "nbformat": 4,
 "nbformat_minor": 5
}
