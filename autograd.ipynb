{
 "cells": [
  {
   "cell_type": "code",
   "execution_count": 33,
   "id": "172f30db",
   "metadata": {},
   "outputs": [],
   "source": [
    "import math\n",
    "import numpy as np\n",
    "import matplotlib.pyplot as plt\n",
    "import torch\n",
    "import random\n",
    "from typing import List\n",
    "\n",
    "from sgrad import Value\n",
    "\n",
    "%matplotlib inline"
   ]
  },
  {
   "cell_type": "code",
   "execution_count": 87,
   "id": "5f7b3746",
   "metadata": {},
   "outputs": [],
   "source": [
    "class Neuron:\n",
    "    \n",
    "    def __init__(self, num_in):\n",
    "        self.w = [Value(random.uniform(-1, 1)) for _ in range(num_in)]\n",
    "        self.b = Value(random.uniform(-1, 1))\n",
    "        \n",
    "    def __call__(self, x):\n",
    "        act = sum((wi*xi for wi, xi in zip(self.w, x)), self.b)\n",
    "        out = act.tanh()\n",
    "        return out\n",
    "    \n",
    "    def parameters(self):\n",
    "        return self.w + [self.b]\n",
    "    \n",
    "    \n",
    "class Layer:\n",
    "    \n",
    "    def __init__(self, num_in, num_out):\n",
    "        self.num_in = num_in\n",
    "        self.num_out = num_out\n",
    "        \n",
    "        self.neurons = [Neuron(num_in) for _ in range(num_out)]\n",
    "        \n",
    "    def __call__(self, x):\n",
    "        out = [[n(xi) for n in self.neurons] for xi in x]\n",
    "        if len(out[0]) == 1:\n",
    "            out = [o[0] for o in out]\n",
    "        return out\n",
    "    \n",
    "    def parameters(self):\n",
    "        return [p for neuron in self.neurons for p in neuron.parameters()]\n",
    "    \n",
    "    \n",
    "class MLP:\n",
    "    \n",
    "    def __init__(self, layout: List[int]):\n",
    "        self.layers = [Layer(layout[i], layout[i+1]) for i in range(len(layout)-1)]\n",
    "        \n",
    "    def __call__(self, x):\n",
    "        for l in self.layers:\n",
    "            x = l(x)\n",
    "        return x\n",
    "    \n",
    "    def parameters(self):\n",
    "        return [p for layer in self.layers for p in layer.parameters()]\n",
    "    \n",
    "    def zero_grad(self):\n",
    "        for p in self.parameters():\n",
    "            p.zero_grad()\n",
    "            \n",
    "        \n",
    "##class SelfAttentionHead:\n",
    "    \n",
    "#    def __init__(self, ):"
   ]
  },
  {
   "cell_type": "code",
   "execution_count": 88,
   "id": "57154328",
   "metadata": {},
   "outputs": [],
   "source": [
    "m = MLP([2, 3, 5, 3, 1])"
   ]
  },
  {
   "cell_type": "code",
   "execution_count": 89,
   "id": "88446f7d",
   "metadata": {},
   "outputs": [
    {
     "data": {
      "text/plain": [
       "[Value(data=0.00014473180744377273),\n",
       " Value(data=0.00014473180744377273),\n",
       " Value(data=0.3682260830412507),\n",
       " Value(data=-0.8762380858787088)]"
      ]
     },
     "execution_count": 89,
     "metadata": {},
     "output_type": "execute_result"
    }
   ],
   "source": [
    "m(x)"
   ]
  },
  {
   "cell_type": "code",
   "execution_count": 85,
   "id": "72170a06",
   "metadata": {},
   "outputs": [
    {
     "data": {
      "text/plain": [
       "[Value(data=-0.403338344799319),\n",
       " Value(data=-0.5576798775137295),\n",
       " Value(data=-0.7584471858059523),\n",
       " Value(data=0.15287907506789206),\n",
       " Value(data=0.8251107688615915),\n",
       " Value(data=0.7663666984786376),\n",
       " Value(data=0.8985714831370212),\n",
       " Value(data=0.6281431290386401),\n",
       " Value(data=0.35236006706983153),\n",
       " Value(data=0.958501003834656),\n",
       " Value(data=-0.25656202030434294),\n",
       " Value(data=-0.60805050740469),\n",
       " Value(data=-0.6919918092749205),\n",
       " Value(data=0.9623852849359836),\n",
       " Value(data=0.49102874124898643),\n",
       " Value(data=-0.6372161724179853),\n",
       " Value(data=0.4226421547980547),\n",
       " Value(data=0.4693956598370029),\n",
       " Value(data=0.812900787245067),\n",
       " Value(data=0.5546960540093653),\n",
       " Value(data=0.8890465548608445),\n",
       " Value(data=-0.36768699177720005),\n",
       " Value(data=-0.7257710245204582),\n",
       " Value(data=0.8255117937815438),\n",
       " Value(data=0.12242840126990404),\n",
       " Value(data=0.8962488325676017),\n",
       " Value(data=-0.787483829488462),\n",
       " Value(data=0.07060390932423323),\n",
       " Value(data=0.21496956146642263),\n",
       " Value(data=0.03822045401263027),\n",
       " Value(data=-0.8479725719932069),\n",
       " Value(data=0.8192715132598819),\n",
       " Value(data=0.7940527299849157),\n",
       " Value(data=-0.44043538947172556),\n",
       " Value(data=-0.02026482092110368),\n",
       " Value(data=0.5632195196557885),\n",
       " Value(data=-0.09487525368289387),\n",
       " Value(data=-0.7319565468045335),\n",
       " Value(data=-0.8249190874568164),\n",
       " Value(data=0.9130780514719122),\n",
       " Value(data=0.7969945970544873),\n",
       " Value(data=0.13790536726271907),\n",
       " Value(data=-0.855086196772616),\n",
       " Value(data=-0.9523663591247147),\n",
       " Value(data=-0.05299216472953817),\n",
       " Value(data=-0.9182898395166311),\n",
       " Value(data=0.08901503306482642),\n",
       " Value(data=-0.9016201225424201),\n",
       " Value(data=0.03180702785505181),\n",
       " Value(data=-0.401637601025347),\n",
       " Value(data=0.5150537661344823)]"
      ]
     },
     "execution_count": 85,
     "metadata": {},
     "output_type": "execute_result"
    }
   ],
   "source": [
    "x = [[1, 2], [1, 2], [1, 4], [347, 3]]\n",
    "y = [-1, -1, 1, 1]\n",
    "m(x)\n",
    "#len(m(x))\n",
    "m.parameters()"
   ]
  },
  {
   "cell_type": "code",
   "execution_count": 84,
   "id": "e972cdc5",
   "metadata": {},
   "outputs": [],
   "source": [
    "lr = 0.01\n",
    "for p in m.parameters():\n",
    "    p.data -= lr*p.grad"
   ]
  },
  {
   "cell_type": "code",
   "execution_count": 79,
   "id": "af50981f",
   "metadata": {},
   "outputs": [],
   "source": [
    "ypred = m(x)"
   ]
  },
  {
   "cell_type": "code",
   "execution_count": 80,
   "id": "d668f5a0",
   "metadata": {},
   "outputs": [],
   "source": [
    "loss = mse(ypred, y)"
   ]
  },
  {
   "cell_type": "code",
   "execution_count": 81,
   "id": "fa2fd738",
   "metadata": {},
   "outputs": [],
   "source": [
    "def mse(pred, gt):\n",
    "    cost = sum((p - y)*(p - y) for p, y in zip(pred, gt))\n",
    "    return cost\n",
    "    "
   ]
  },
  {
   "cell_type": "code",
   "execution_count": 380,
   "id": "a211e567",
   "metadata": {},
   "outputs": [],
   "source": [
    "x1 = torch.Tensor([2.0]).double(); x1.requires_grad = True\n",
    "x2 = torch.Tensor([0.0]).double(); x2.requires_grad = True\n",
    "w1 = torch.Tensor([-3.0]).double(); w1.requires_grad = True\n",
    "w2 = torch.Tensor([1.0]).double(); w2.requires_grad = True\n",
    "\n",
    "b = torch.Tensor([6.8813735870195432]).double(); b.requires_grad = True\n",
    "\n",
    "\n"
   ]
  },
  {
   "cell_type": "code",
   "execution_count": 381,
   "id": "31cd3a55",
   "metadata": {},
   "outputs": [],
   "source": [
    "n = x1*w1 + x2*w2 + b\n",
    "o = torch.tanh(n)"
   ]
  },
  {
   "cell_type": "code",
   "execution_count": 82,
   "id": "1878c666",
   "metadata": {},
   "outputs": [],
   "source": [
    "loss.backward()"
   ]
  },
  {
   "cell_type": "code",
   "execution_count": 387,
   "id": "1909b1ca",
   "metadata": {},
   "outputs": [],
   "source": [
    "o.backward()"
   ]
  },
  {
   "cell_type": "code",
   "execution_count": 346,
   "id": "6c92589f",
   "metadata": {},
   "outputs": [
    {
     "data": {
      "text/plain": [
       "0.4999999999999999"
      ]
     },
     "execution_count": 346,
     "metadata": {},
     "output_type": "execute_result"
    }
   ],
   "source": [
    "x1w1.grad"
   ]
  },
  {
   "cell_type": "code",
   "execution_count": 347,
   "id": "ba51b743",
   "metadata": {},
   "outputs": [
    {
     "data": {
      "text/plain": [
       "0.4999999999999999"
      ]
     },
     "execution_count": 347,
     "metadata": {},
     "output_type": "execute_result"
    }
   ],
   "source": [
    "x2w2.grad"
   ]
  },
  {
   "cell_type": "code",
   "execution_count": 348,
   "id": "95657f20",
   "metadata": {},
   "outputs": [
    {
     "data": {
      "text/plain": [
       "0.4999999999999999"
      ]
     },
     "execution_count": 348,
     "metadata": {},
     "output_type": "execute_result"
    }
   ],
   "source": [
    "x1w1x2w2.grad"
   ]
  },
  {
   "cell_type": "code",
   "execution_count": 349,
   "id": "9dc647e0",
   "metadata": {},
   "outputs": [
    {
     "data": {
      "text/plain": [
       "0.4999999999999999"
      ]
     },
     "execution_count": 349,
     "metadata": {},
     "output_type": "execute_result"
    }
   ],
   "source": [
    "n.grad"
   ]
  },
  {
   "cell_type": "code",
   "execution_count": 350,
   "id": "a6b5f833",
   "metadata": {},
   "outputs": [
    {
     "data": {
      "text/plain": [
       "1"
      ]
     },
     "execution_count": 350,
     "metadata": {},
     "output_type": "execute_result"
    }
   ],
   "source": [
    "o.grad"
   ]
  },
  {
   "cell_type": "code",
   "execution_count": 316,
   "id": "b5132cb9",
   "metadata": {},
   "outputs": [],
   "source": [
    "a = Value(3)\n",
    "b = Value(6)"
   ]
  },
  {
   "cell_type": "code",
   "execution_count": 317,
   "id": "7509477c",
   "metadata": {},
   "outputs": [],
   "source": [
    "c = a / b"
   ]
  },
  {
   "cell_type": "code",
   "execution_count": 318,
   "id": "427730ea",
   "metadata": {},
   "outputs": [
    {
     "data": {
      "text/plain": [
       "Value(data=0.5)"
      ]
     },
     "execution_count": 318,
     "metadata": {},
     "output_type": "execute_result"
    }
   ],
   "source": [
    "c"
   ]
  },
  {
   "cell_type": "code",
   "execution_count": 319,
   "id": "aaf3fcc8",
   "metadata": {},
   "outputs": [],
   "source": [
    "c.backward()"
   ]
  },
  {
   "cell_type": "code",
   "execution_count": 320,
   "id": "4fe24bc4",
   "metadata": {},
   "outputs": [
    {
     "data": {
      "text/plain": [
       "0.16666666666666666"
      ]
     },
     "execution_count": 320,
     "metadata": {},
     "output_type": "execute_result"
    }
   ],
   "source": [
    "a.grad"
   ]
  },
  {
   "cell_type": "code",
   "execution_count": 321,
   "id": "6b406276",
   "metadata": {},
   "outputs": [
    {
     "data": {
      "text/plain": [
       "-0.08333333333333333"
      ]
     },
     "execution_count": 321,
     "metadata": {},
     "output_type": "execute_result"
    }
   ],
   "source": [
    "b.grad"
   ]
  },
  {
   "cell_type": "code",
   "execution_count": 121,
   "id": "ed5e71f3",
   "metadata": {},
   "outputs": [
    {
     "data": {
      "text/plain": [
       "-3.0"
      ]
     },
     "execution_count": 121,
     "metadata": {},
     "output_type": "execute_result"
    }
   ],
   "source": [
    "-0.12*25"
   ]
  },
  {
   "cell_type": "code",
   "execution_count": 122,
   "id": "52052740",
   "metadata": {},
   "outputs": [
    {
     "data": {
      "text/plain": [
       "-0.12"
      ]
     },
     "execution_count": 122,
     "metadata": {},
     "output_type": "execute_result"
    }
   ],
   "source": [
    "-3/25"
   ]
  },
  {
   "cell_type": "code",
   "execution_count": null,
   "id": "3ed8f559",
   "metadata": {},
   "outputs": [],
   "source": []
  }
 ],
 "metadata": {
  "kernelspec": {
   "display_name": "Python 3 (ipykernel)",
   "language": "python",
   "name": "python3"
  },
  "language_info": {
   "codemirror_mode": {
    "name": "ipython",
    "version": 3
   },
   "file_extension": ".py",
   "mimetype": "text/x-python",
   "name": "python",
   "nbconvert_exporter": "python",
   "pygments_lexer": "ipython3",
   "version": "3.8.9"
  }
 },
 "nbformat": 4,
 "nbformat_minor": 5
}
