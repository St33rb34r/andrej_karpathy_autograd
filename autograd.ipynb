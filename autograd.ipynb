{
 "cells": [
  {
   "cell_type": "code",
   "execution_count": 33,
   "id": "59692bdb",
   "metadata": {},
   "outputs": [],
   "source": [
    "import math\n",
    "import numpy as np\n",
    "import matplotlib.pyplot as plt\n",
    "import torch\n",
    "import random\n",
    "from typing import List\n",
    "\n",
    "from sgrad import Value\n",
    "\n",
    "%matplotlib inline"
   ]
  },
  {
   "cell_type": "code",
   "execution_count": 87,
   "id": "2e19e3a3",
   "metadata": {},
   "outputs": [],
   "source": [
    "class Neuron:\n",
    "    \n",
    "    def __init__(self, num_in):\n",
    "        self.w = [Value(random.uniform(-1, 1)) for _ in range(num_in)]\n",
    "        self.b = Value(random.uniform(-1, 1))\n",
    "        \n",
    "    def __call__(self, x):\n",
    "        act = sum((wi*xi for wi, xi in zip(self.w, x)), self.b)\n",
    "        out = act.tanh()\n",
    "        return out\n",
    "    \n",
    "    def parameters(self):\n",
    "        return self.w + [self.b]\n",
    "    \n",
    "    \n",
    "class Layer:\n",
    "    \n",
    "    def __init__(self, num_in, num_out):\n",
    "        self.num_in = num_in\n",
    "        self.num_out = num_out\n",
    "        \n",
    "        self.neurons = [Neuron(num_in) for _ in range(num_out)]\n",
    "        \n",
    "    def __call__(self, x):\n",
    "        out = [[n(xi) for n in self.neurons] for xi in x]\n",
    "        if len(out[0]) == 1:\n",
    "            out = [o[0] for o in out]\n",
    "        return out\n",
    "    \n",
    "    def parameters(self):\n",
    "        return [p for neuron in self.neurons for p in neuron.parameters()]\n",
    "    \n",
    "    \n",
    "class MLP:\n",
    "    \n",
    "    def __init__(self, layout: List[int]):\n",
    "        self.layers = [Layer(layout[i], layout[i+1]) for i in range(len(layout)-1)]\n",
    "        \n",
    "    def __call__(self, x):\n",
    "        for l in self.layers:\n",
    "            x = l(x)\n",
    "        return x\n",
    "    \n",
    "    def parameters(self):\n",
    "        return [p for layer in self.layers for p in layer.parameters()]\n",
    "    \n",
    "    def zero_grad(self):\n",
    "        for p in self.parameters():\n",
    "            p.zero_grad()\n",
    "            \n",
    "        \n",
    "##class SelfAttentionHead:\n",
    "    \n",
    "#    def __init__(self, ):"
   ]
  },
  {
   "cell_type": "code",
   "execution_count": 109,
   "id": "f6427348",
   "metadata": {},
   "outputs": [],
   "source": [
    "m = MLP([2, 3, 5, 3, 1])"
   ]
  },
  {
   "cell_type": "code",
   "execution_count": 110,
   "id": "ee52ff8f",
   "metadata": {},
   "outputs": [
    {
     "data": {
      "text/plain": [
       "[Value(data=-0.9253634511617738),\n",
       " Value(data=-0.9253634511617738),\n",
       " Value(data=-0.9236762122728861),\n",
       " Value(data=-0.8850600679007604)]"
      ]
     },
     "execution_count": 110,
     "metadata": {},
     "output_type": "execute_result"
    }
   ],
   "source": [
    "m(x)"
   ]
  },
  {
   "cell_type": "code",
   "execution_count": 111,
   "id": "17114e82",
   "metadata": {},
   "outputs": [],
   "source": [
    "def mse(pred, gt):\n",
    "    cost = sum((p - y)*(p - y) for p, y in zip(pred, gt))\n",
    "    return cost\n",
    "    "
   ]
  },
  {
   "cell_type": "code",
   "execution_count": 112,
   "id": "41990d78",
   "metadata": {},
   "outputs": [],
   "source": [
    "x = [[1, 2], [1, 2], [1, 4], [347, 3]]\n",
    "y = [-1, -1, 1, 1]\n",
    "\n"
   ]
  },
  {
   "cell_type": "code",
   "execution_count": 113,
   "id": "129f9113",
   "metadata": {},
   "outputs": [],
   "source": [
    "### Training loop\n",
    "lr = 0.01\n",
    "params = m.parameters()\n",
    "\n",
    "losses = []\n",
    "preds = []\n",
    "\n",
    "for _ in range(10):\n",
    "    \n",
    "    m.zero_grad()\n",
    "    \n",
    "    ypred = m(x)\n",
    "    \n",
    "    loss = mse(ypred, y)\n",
    "    \n",
    "    loss.backward()\n",
    "    \n",
    "    preds.append([xi.data for xi in ypred])\n",
    "    losses.append(loss.data)\n",
    "    \n",
    "\n",
    "    for p in m.parameters():\n",
    "        p.data -= lr*p.grad\n",
    "        \n",
    "        "
   ]
  },
  {
   "cell_type": "code",
   "execution_count": 114,
   "id": "a6eaa1eb",
   "metadata": {},
   "outputs": [
    {
     "data": {
      "text/plain": [
       "[[-0.9253634511617738,\n",
       "  -0.9253634511617738,\n",
       "  -0.9236762122728861,\n",
       "  -0.8850600679007604],\n",
       " [-0.9200226777254487,\n",
       "  -0.9200226777254487,\n",
       "  -0.9183539345785108,\n",
       "  -0.8724541358261949],\n",
       " [-0.9077588630504544,\n",
       "  -0.9077588630504544,\n",
       "  -0.9061710735027422,\n",
       "  -0.8416076331917741],\n",
       " [-0.8843878283703399,\n",
       "  -0.8843878283703399,\n",
       "  -0.8830853632488063,\n",
       "  -0.7760860649127872],\n",
       " [-0.8400415635157856,\n",
       "  -0.8400415635157856,\n",
       "  -0.8396646280153895,\n",
       "  -0.6325313491317215],\n",
       " [-0.7513091931977498,\n",
       "  -0.7513091931977498,\n",
       "  -0.7538623733960341,\n",
       "  -0.3144746562870104],\n",
       " [-0.5704836732136097,\n",
       "  -0.5704836732136097,\n",
       "  -0.5814048633026307,\n",
       "  0.21165099834712556],\n",
       " [-0.25695205246412933,\n",
       "  -0.25695205246412933,\n",
       "  -0.28379579528909565,\n",
       "  0.6342003847948106],\n",
       " [0.11523100733991719,\n",
       "  0.11523100733991719,\n",
       "  0.07410968918557183,\n",
       "  0.8285504829606307],\n",
       " [0.38083675389995125,\n",
       "  0.38083675389995125,\n",
       "  0.3365888982558384,\n",
       "  0.9076942082209941]]"
      ]
     },
     "execution_count": 114,
     "metadata": {},
     "output_type": "execute_result"
    }
   ],
   "source": [
    "preds"
   ]
  },
  {
   "cell_type": "code",
   "execution_count": 92,
   "id": "d2d3a879",
   "metadata": {},
   "outputs": [],
   "source": [
    "loss = mse(ypred, y)"
   ]
  },
  {
   "cell_type": "code",
   "execution_count": 380,
   "id": "b5559e6d",
   "metadata": {},
   "outputs": [],
   "source": [
    "x1 = torch.Tensor([2.0]).double(); x1.requires_grad = True\n",
    "x2 = torch.Tensor([0.0]).double(); x2.requires_grad = True\n",
    "w1 = torch.Tensor([-3.0]).double(); w1.requires_grad = True\n",
    "w2 = torch.Tensor([1.0]).double(); w2.requires_grad = True\n",
    "\n",
    "b = torch.Tensor([6.8813735870195432]).double(); b.requires_grad = True\n",
    "\n",
    "\n"
   ]
  },
  {
   "cell_type": "code",
   "execution_count": 381,
   "id": "b993b526",
   "metadata": {},
   "outputs": [],
   "source": [
    "n = x1*w1 + x2*w2 + b\n",
    "o = torch.tanh(n)"
   ]
  },
  {
   "cell_type": "code",
   "execution_count": 93,
   "id": "504a23c8",
   "metadata": {},
   "outputs": [],
   "source": [
    "loss.backward()"
   ]
  },
  {
   "cell_type": "code",
   "execution_count": 387,
   "id": "40f4234b",
   "metadata": {},
   "outputs": [],
   "source": [
    "o.backward()"
   ]
  },
  {
   "cell_type": "code",
   "execution_count": 346,
   "id": "bae01b96",
   "metadata": {},
   "outputs": [
    {
     "data": {
      "text/plain": [
       "0.4999999999999999"
      ]
     },
     "execution_count": 346,
     "metadata": {},
     "output_type": "execute_result"
    }
   ],
   "source": [
    "x1w1.grad"
   ]
  },
  {
   "cell_type": "code",
   "execution_count": 347,
   "id": "6b562fb1",
   "metadata": {},
   "outputs": [
    {
     "data": {
      "text/plain": [
       "0.4999999999999999"
      ]
     },
     "execution_count": 347,
     "metadata": {},
     "output_type": "execute_result"
    }
   ],
   "source": [
    "x2w2.grad"
   ]
  },
  {
   "cell_type": "code",
   "execution_count": 348,
   "id": "aa71ef02",
   "metadata": {},
   "outputs": [
    {
     "data": {
      "text/plain": [
       "0.4999999999999999"
      ]
     },
     "execution_count": 348,
     "metadata": {},
     "output_type": "execute_result"
    }
   ],
   "source": [
    "x1w1x2w2.grad"
   ]
  },
  {
   "cell_type": "code",
   "execution_count": 349,
   "id": "f122a9a0",
   "metadata": {},
   "outputs": [
    {
     "data": {
      "text/plain": [
       "0.4999999999999999"
      ]
     },
     "execution_count": 349,
     "metadata": {},
     "output_type": "execute_result"
    }
   ],
   "source": [
    "n.grad"
   ]
  },
  {
   "cell_type": "code",
   "execution_count": 350,
   "id": "c03211d0",
   "metadata": {},
   "outputs": [
    {
     "data": {
      "text/plain": [
       "1"
      ]
     },
     "execution_count": 350,
     "metadata": {},
     "output_type": "execute_result"
    }
   ],
   "source": [
    "o.grad"
   ]
  },
  {
   "cell_type": "code",
   "execution_count": 316,
   "id": "ce2b5e34",
   "metadata": {},
   "outputs": [],
   "source": [
    "a = Value(3)\n",
    "b = Value(6)"
   ]
  },
  {
   "cell_type": "code",
   "execution_count": 317,
   "id": "889d6ff4",
   "metadata": {},
   "outputs": [],
   "source": [
    "c = a / b"
   ]
  },
  {
   "cell_type": "code",
   "execution_count": 318,
   "id": "2844a2b4",
   "metadata": {},
   "outputs": [
    {
     "data": {
      "text/plain": [
       "Value(data=0.5)"
      ]
     },
     "execution_count": 318,
     "metadata": {},
     "output_type": "execute_result"
    }
   ],
   "source": [
    "c"
   ]
  },
  {
   "cell_type": "code",
   "execution_count": 319,
   "id": "d0b19ddf",
   "metadata": {},
   "outputs": [],
   "source": [
    "c.backward()"
   ]
  },
  {
   "cell_type": "code",
   "execution_count": 320,
   "id": "50c940dc",
   "metadata": {},
   "outputs": [
    {
     "data": {
      "text/plain": [
       "0.16666666666666666"
      ]
     },
     "execution_count": 320,
     "metadata": {},
     "output_type": "execute_result"
    }
   ],
   "source": [
    "a.grad"
   ]
  },
  {
   "cell_type": "code",
   "execution_count": 321,
   "id": "edea3de2",
   "metadata": {},
   "outputs": [
    {
     "data": {
      "text/plain": [
       "-0.08333333333333333"
      ]
     },
     "execution_count": 321,
     "metadata": {},
     "output_type": "execute_result"
    }
   ],
   "source": [
    "b.grad"
   ]
  },
  {
   "cell_type": "code",
   "execution_count": 121,
   "id": "6240fe85",
   "metadata": {},
   "outputs": [
    {
     "data": {
      "text/plain": [
       "-3.0"
      ]
     },
     "execution_count": 121,
     "metadata": {},
     "output_type": "execute_result"
    }
   ],
   "source": [
    "-0.12*25"
   ]
  },
  {
   "cell_type": "code",
   "execution_count": 122,
   "id": "5fbc2264",
   "metadata": {},
   "outputs": [
    {
     "data": {
      "text/plain": [
       "-0.12"
      ]
     },
     "execution_count": 122,
     "metadata": {},
     "output_type": "execute_result"
    }
   ],
   "source": [
    "-3/25"
   ]
  },
  {
   "cell_type": "code",
   "execution_count": null,
   "id": "54decb54",
   "metadata": {},
   "outputs": [],
   "source": []
  }
 ],
 "metadata": {
  "kernelspec": {
   "display_name": "Python 3 (ipykernel)",
   "language": "python",
   "name": "python3"
  },
  "language_info": {
   "codemirror_mode": {
    "name": "ipython",
    "version": 3
   },
   "file_extension": ".py",
   "mimetype": "text/x-python",
   "name": "python",
   "nbconvert_exporter": "python",
   "pygments_lexer": "ipython3",
   "version": "3.8.9"
  }
 },
 "nbformat": 4,
 "nbformat_minor": 5
}
