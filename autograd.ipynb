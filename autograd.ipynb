{
 "cells": [
  {
   "cell_type": "code",
   "execution_count": 1,
   "id": "c454962b",
   "metadata": {},
   "outputs": [],
   "source": [
    "import math\n",
    "import numpy as np\n",
    "import matplotlib.pyplot as plt\n",
    "%matplotlib inline"
   ]
  },
  {
   "cell_type": "code",
   "execution_count": 287,
   "id": "08ae90d9",
   "metadata": {},
   "outputs": [],
   "source": [
    "class Value:\n",
    "    \n",
    "    def __init__(self, data, _children=(), _op=''):\n",
    "        self.data = data\n",
    "        self.grad = 0\n",
    "        self._prev = set(_children)\n",
    "        self._op = _op\n",
    "        self._backward = lambda: None\n",
    "        \n",
    "    def __repr__(self):\n",
    "        return f\"Value(data={self.data})\"\n",
    "    \n",
    "    def __add__(self, value):\n",
    "        out = Value(self.data + value.data, (self, value), '+')\n",
    "        \n",
    "        def _backward():\n",
    "            self.grad = 1.0 * out.grad\n",
    "            value.grad = 1.0 * out.grad\n",
    "        out._backward = _backward\n",
    "        \n",
    "        return out\n",
    "    \n",
    "    def __mul__(self, value):\n",
    "        out = Value(self.data * value.data, (self, value), '*')\n",
    "        \n",
    "        def _backward():\n",
    "            self.grad = value.data * out.grad\n",
    "            value.grad = self.data * out.grad\n",
    "        out._backward = _backward\n",
    "            \n",
    "        return out\n",
    "    \n",
    "    def __sub__(self, value):\n",
    "        out = Value(self.data - value.data, (self, value), '-')\n",
    "        \n",
    "        def _backward():\n",
    "            self.grad = 1.0 * out.grad\n",
    "            self.value = -1.0 *out.grad\n",
    "        out._backward = _backward\n",
    "            \n",
    "        return out\n",
    "    \n",
    "    def __truediv__(self, value):\n",
    "        out = Value(self.data / value.data, (self, value), '/')\n",
    "        \n",
    "        def _backward():\n",
    "            self.grad = (out.grad/value.data)\n",
    "            value.grad = (-self.data/(value.data * value.data))*(out.grad)\n",
    "        out._backward = _backward\n",
    "        \n",
    "        return out\n",
    "    \n",
    "    def tanh(self):\n",
    "        n = self.data\n",
    "        t = (math.exp(2*n) - 1) / (math.exp(2*n) + 1)\n",
    "        out = Value(t, (self, ), 'tanh')\n",
    "        \n",
    "        def _backward():\n",
    "            self.grad = (1 - (t*t)) * out.grad\n",
    "        out._backward = _backward\n",
    "            \n",
    "        return out\n",
    "    \n",
    "    def relu(self):\n",
    "        \n",
    "        out = Value(self.data if self.data > 0 else 0.0, (self, ), 'relu')\n",
    "        \n",
    "        def _backward():\n",
    "            self.grad = 1.0 * out.grad if self.data > 0 else 0\n",
    "        out._backward = _backward\n",
    "        \n",
    "        return out\n",
    "        \n",
    "        \n",
    "    def backward(self):\n",
    "        self._backward()\n",
    "        for child in self._prev:\n",
    "            child.backward()\n",
    "    \n",
    "    def _backward(self, earlier_derivative=None):\n",
    "        \n",
    "        if len(self._prev) == 1:\n",
    "            child1 = list(self._prev)[0]\n",
    "            \n",
    "            if self._op == 'tanh':\n",
    "                n = child1.data\n",
    "                t = (math.exp(2*n) - 1) / (math.exp(2*n) + 1)\n",
    "                child1.grad += (1 - (t * t))\n",
    "                \n",
    "            if self._op == 'relu':\n",
    "                if self.data > 0:\n",
    "                    self.grad = 1\n",
    "                else:\n",
    "                    self.grad = 0\n",
    "                \n",
    "            if earlier_derivative:\n",
    "                child1.grad *= earlier_derivative\n",
    "            else:\n",
    "                self.grad = 1\n",
    "                \n",
    "            if len(child1._prev) > 0:\n",
    "                child1.backward(child1.grad)\n",
    "                \n",
    "        elif len(self._prev) == 2:\n",
    "            child1, child2 = self._prev\n",
    "            \n",
    "            if self._op == '+':\n",
    "                child1.grad += 1\n",
    "                child2.grad += 1\n",
    "                \n",
    "            elif self._op == '*':\n",
    "                child1.grad += child2.data\n",
    "                child2.grad += child1.data\n",
    "                \n",
    "            elif self._op == '-':\n",
    "                child1.grad += 1\n",
    "                child2.grad += -1\n",
    "                \n",
    "            elif self._op == '/':\n",
    "                child2.grad += 1 / child1.data\n",
    "                child1.grad += - child2.data / (child1.data * child1.data)\n",
    "                \n",
    "            #elif self._op == '**':\n",
    "            #    child1._grad \n",
    "            \n",
    "            if earlier_derivative:\n",
    "                child1.grad *= earlier_derivative\n",
    "                child2.grad *= earlier_derivative\n",
    "            else:\n",
    "                self.grad = 1\n",
    "            \n",
    "            if len(child1._prev) > 0:\n",
    "                child1.backward(child1.grad)\n",
    "                \n",
    "            if len(child2._prev) > 0:\n",
    "                child2.backward(child2.grad)\n",
    "                \n",
    "\n",
    "                \n",
    "    def zero_grad(self):\n",
    "        \n",
    "        if len(self._prev) > 0:\n",
    "            child1, child2 = self._prev\n",
    "            child1.grad, child2.grad = 0, 0\n",
    "            \n",
    "            if len(child1._prev) > 0:\n",
    "                child1.zero_grad()\n",
    "                \n",
    "            if len(child2._prev) > 0:\n",
    "                child2.zero_grad()"
   ]
  },
  {
   "cell_type": "code",
   "execution_count": 288,
   "id": "ca17a945",
   "metadata": {},
   "outputs": [],
   "source": [
    "x1 = Value(2.0)\n",
    "x2 = Value(0.0)\n",
    "\n",
    "w1 = Value(-3.0)\n",
    "w2 = Value(1.0)\n",
    "\n",
    "b = Value(6.8813735870195432)\n",
    "\n",
    "x1w1 = x1*w1\n",
    "x2w2 = x2*w2\n",
    "x1w1x2w2 = x1w1 + x2w2\n",
    "n = x1w1x2w2 + b\n",
    "o = n.tanh()"
   ]
  },
  {
   "cell_type": "code",
   "execution_count": 289,
   "id": "51e9ef2a",
   "metadata": {},
   "outputs": [],
   "source": [
    "o.grad = 1\n",
    "o._backward()"
   ]
  },
  {
   "cell_type": "code",
   "execution_count": 292,
   "id": "731d3ae3",
   "metadata": {},
   "outputs": [
    {
     "data": {
      "text/plain": [
       "0"
      ]
     },
     "execution_count": 292,
     "metadata": {},
     "output_type": "execute_result"
    }
   ],
   "source": [
    "x1w1x2w2.grad\n"
   ]
  },
  {
   "cell_type": "code",
   "execution_count": 276,
   "id": "1f52c0c7",
   "metadata": {},
   "outputs": [
    {
     "data": {
      "text/plain": [
       "Value(data=-6.0)"
      ]
     },
     "execution_count": 276,
     "metadata": {},
     "output_type": "execute_result"
    }
   ],
   "source": [
    "x1w1x2w2"
   ]
  },
  {
   "cell_type": "code",
   "execution_count": 277,
   "id": "f4a2cdcb",
   "metadata": {},
   "outputs": [],
   "source": [
    "a = Value(3)\n",
    "b = Value(6)"
   ]
  },
  {
   "cell_type": "code",
   "execution_count": 173,
   "id": "ed3ccc2f",
   "metadata": {},
   "outputs": [],
   "source": [
    "c = a / b"
   ]
  },
  {
   "cell_type": "code",
   "execution_count": 174,
   "id": "2fd1a1a3",
   "metadata": {},
   "outputs": [
    {
     "data": {
      "text/plain": [
       "Value(data=0.5)"
      ]
     },
     "execution_count": 174,
     "metadata": {},
     "output_type": "execute_result"
    }
   ],
   "source": [
    "c"
   ]
  },
  {
   "cell_type": "code",
   "execution_count": 175,
   "id": "1b1e5c99",
   "metadata": {},
   "outputs": [],
   "source": [
    "c.backward()"
   ]
  },
  {
   "cell_type": "code",
   "execution_count": 176,
   "id": "ca0197c0",
   "metadata": {},
   "outputs": [
    {
     "data": {
      "text/plain": [
       "0.16666666666666666"
      ]
     },
     "execution_count": 176,
     "metadata": {},
     "output_type": "execute_result"
    }
   ],
   "source": [
    "a.grad"
   ]
  },
  {
   "cell_type": "code",
   "execution_count": 177,
   "id": "c6d8be34",
   "metadata": {},
   "outputs": [
    {
     "data": {
      "text/plain": [
       "-0.08333333333333333"
      ]
     },
     "execution_count": 177,
     "metadata": {},
     "output_type": "execute_result"
    }
   ],
   "source": [
    "b.grad"
   ]
  },
  {
   "cell_type": "code",
   "execution_count": 121,
   "id": "70060a0e",
   "metadata": {},
   "outputs": [
    {
     "data": {
      "text/plain": [
       "-3.0"
      ]
     },
     "execution_count": 121,
     "metadata": {},
     "output_type": "execute_result"
    }
   ],
   "source": [
    "-0.12*25"
   ]
  },
  {
   "cell_type": "code",
   "execution_count": 122,
   "id": "14c05b84",
   "metadata": {},
   "outputs": [
    {
     "data": {
      "text/plain": [
       "-0.12"
      ]
     },
     "execution_count": 122,
     "metadata": {},
     "output_type": "execute_result"
    }
   ],
   "source": [
    "-3/25"
   ]
  },
  {
   "cell_type": "code",
   "execution_count": null,
   "id": "5926dac7",
   "metadata": {},
   "outputs": [],
   "source": []
  }
 ],
 "metadata": {
  "kernelspec": {
   "display_name": "Python 3 (ipykernel)",
   "language": "python",
   "name": "python3"
  },
  "language_info": {
   "codemirror_mode": {
    "name": "ipython",
    "version": 3
   },
   "file_extension": ".py",
   "mimetype": "text/x-python",
   "name": "python",
   "nbconvert_exporter": "python",
   "pygments_lexer": "ipython3",
   "version": "3.8.9"
  }
 },
 "nbformat": 4,
 "nbformat_minor": 5
}
