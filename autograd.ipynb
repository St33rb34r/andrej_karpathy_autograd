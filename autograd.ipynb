{
 "cells": [
  {
   "cell_type": "code",
   "execution_count": 1,
   "id": "e51869d6",
   "metadata": {},
   "outputs": [],
   "source": [
    "import math\n",
    "import numpy as np\n",
    "import matplotlib.pyplot as plt\n",
    "%matplotlib inline"
   ]
  },
  {
   "cell_type": "code",
   "execution_count": 352,
   "id": "09abd6e3",
   "metadata": {},
   "outputs": [
    {
     "ename": "SyntaxError",
     "evalue": "invalid syntax (3786228907.py, line 66)",
     "output_type": "error",
     "traceback": [
      "\u001b[0;36m  Cell \u001b[0;32mIn [352], line 66\u001b[0;36m\u001b[0m\n\u001b[0;31m    def __rmul__(self, value)\u001b[0m\n\u001b[0m                             ^\u001b[0m\n\u001b[0;31mSyntaxError\u001b[0m\u001b[0;31m:\u001b[0m invalid syntax\n"
     ]
    }
   ],
   "source": [
    "class Value:\n",
    "    \n",
    "    def __init__(self, data, _children=(), _op=''):\n",
    "        self.data = data\n",
    "        self.grad = 0\n",
    "        self._prev = set(_children)\n",
    "        self._op = _op\n",
    "        self._backward = lambda: None\n",
    "        \n",
    "    def __repr__(self):\n",
    "        return f\"Value(data={self.data})\"\n",
    "    \n",
    "    def __add__(self, value):\n",
    "        value = value if isinstance(value, Value) else Value(value)\n",
    "        out = Value(self.data + value.data, (self, value), '+')\n",
    "        \n",
    "        def _backward():\n",
    "            self.grad += 1.0 * out.grad\n",
    "            value.grad += 1.0 * out.grad\n",
    "        out._backward = _backward\n",
    "        \n",
    "        return out\n",
    "    \n",
    "    def __mul__(self, value):\n",
    "        value = value if isinstance(value, Value) else Value(value)\n",
    "        out = Value(self.data * value.data, (self, value), '*')\n",
    "        \n",
    "        def _backward():\n",
    "            self.grad += value.data * out.grad\n",
    "            value.grad += self.data * out.grad\n",
    "        out._backward = _backward\n",
    "            \n",
    "        return out\n",
    "    \n",
    "    def __sub__(self, value):\n",
    "        value = value if isinstance(value, Value) else Value(value)\n",
    "        out = Value(self.data - value.data, (self, value), '-')\n",
    "        \n",
    "        def _backward():\n",
    "            self.grad += 1.0 * out.grad\n",
    "            self.value += -1.0 *out.grad\n",
    "        out._backward = _backward\n",
    "            \n",
    "        return out\n",
    "    \n",
    "    def __truediv__(self, value):\n",
    "        value = value if isinstance(value, Value) else Value(value)\n",
    "        out = Value(self.data / value.data, (self, value), '/')\n",
    "        \n",
    "        def _backward():\n",
    "            self.grad += (out.grad/value.data)\n",
    "            value.grad += (-self.data/(value.data * value.data))*(out.grad)\n",
    "        out._backward = _backward\n",
    "        \n",
    "        return out\n",
    "    \n",
    "    def __pow__(self, scalar):\n",
    "        value = value if isinstance(value, Value) else Value(value)\n",
    "        out = Value(self.data ** scalar, (self, value), '**')\n",
    "        \n",
    "        def _backward():\n",
    "            self.grad += scalar*out.grad\n",
    "            \n",
    "        out._backward = _backward\n",
    "        \n",
    "    def __rmul__(self, value):\n",
    "        return self * value\n",
    "        \n",
    "        \n",
    "    def tanh(self):\n",
    "        n = self.data\n",
    "        t = (math.exp(2*n) - 1) / (math.exp(2*n) + 1)\n",
    "        out = Value(t, (self, ), 'tanh')\n",
    "        \n",
    "        def _backward():\n",
    "            self.grad += (1 - (t*t)) * out.grad\n",
    "        out._backward = _backward\n",
    "            \n",
    "        return out\n",
    "    \n",
    "    def relu(self):\n",
    "        \n",
    "        out = Value(self.data if self.data > 0 else 0.0, (self, ), 'relu')\n",
    "        \n",
    "        def _backward():\n",
    "            self.grad += 1.0 * out.grad if self.data > 0 else 0\n",
    "        out._backward = _backward\n",
    "        \n",
    "        return out\n",
    "        \n",
    "        \n",
    "    def backward(self):\n",
    "        topolist = []\n",
    "        visited = set()\n",
    "        def build_topo(v):\n",
    "            if v not in visited:\n",
    "                visited.add(v)\n",
    "                for child in v._prev:\n",
    "                    build_topo(child)\n",
    "                topolist.append(v)\n",
    "        build_topo(self)\n",
    "        \n",
    "        self.grad = 1.0\n",
    "            \n",
    "        for node in reversed(topolist):\n",
    "            node._backward()\n",
    "    \n",
    "    def ackward(self, earlier_derivative=None):\n",
    "        \n",
    "        if len(self._prev) == 1:\n",
    "            child1 = list(self._prev)[0]\n",
    "            \n",
    "            if self._op == 'tanh':\n",
    "                n = child1.data\n",
    "                t = (math.exp(2*n) - 1) / (math.exp(2*n) + 1)\n",
    "                child1.grad += (1 - (t * t))\n",
    "                \n",
    "            if self._op == 'relu':\n",
    "                if self.data > 0:\n",
    "                    self.grad = 1\n",
    "                else:\n",
    "                    self.grad = 0\n",
    "                \n",
    "            if earlier_derivative:\n",
    "                child1.grad *= earlier_derivative\n",
    "            else:\n",
    "                self.grad = 1\n",
    "                \n",
    "            if len(child1._prev) > 0:\n",
    "                child1.ackward(child1.grad)\n",
    "                \n",
    "        elif len(self._prev) == 2:\n",
    "            child1, child2 = self._prev\n",
    "            \n",
    "            if self._op == '+':\n",
    "                child1.grad += 1\n",
    "                child2.grad += 1\n",
    "                \n",
    "            elif self._op == '*':\n",
    "                child1.grad += child2.data\n",
    "                child2.grad += child1.data\n",
    "                \n",
    "            elif self._op == '-':\n",
    "                child1.grad += 1\n",
    "                child2.grad += -1\n",
    "                \n",
    "            elif self._op == '/':\n",
    "                child2.grad += 1 / child1.data\n",
    "                child1.grad += - child2.data / (child1.data * child1.data)\n",
    "                \n",
    "            #elif self._op == '**':\n",
    "            #    child1._grad \n",
    "            \n",
    "            if earlier_derivative:\n",
    "                child1.grad *= earlier_derivative\n",
    "                child2.grad *= earlier_derivative\n",
    "            else:\n",
    "                self.grad = 1\n",
    "            \n",
    "            if len(child1._prev) > 0:\n",
    "                child1.ackward(child1.grad)\n",
    "                \n",
    "            if len(child2._prev) > 0:\n",
    "                child2.ackward(child2.grad)\n",
    "                \n",
    "\n",
    "                \n",
    "    def zero_grad(self):\n",
    "        \n",
    "        if len(self._prev) > 0:\n",
    "            child1, child2 = self._prev\n",
    "            child1.grad, child2.grad = 0, 0\n",
    "            \n",
    "            if len(child1._prev) > 0:\n",
    "                child1.zero_grad()\n",
    "                \n",
    "            if len(child2._prev) > 0:\n",
    "                child2.zero_grad()"
   ]
  },
  {
   "cell_type": "code",
   "execution_count": 339,
   "id": "d71f4f19",
   "metadata": {},
   "outputs": [],
   "source": [
    "x1 = Value(2.0)\n",
    "x2 = Value(0.0)\n",
    "\n",
    "w1 = Value(-3.0)\n",
    "w2 = Value(1.0)\n",
    "\n",
    "b = Value(6.8813735870195432)\n",
    "\n",
    "x1w1 = x1*w1\n",
    "x2w2 = x2*w2\n",
    "x1w1x2w2 = x1w1 + x2w2\n",
    "n = x1w1x2w2 + b\n",
    "o = n.tanh()"
   ]
  },
  {
   "cell_type": "code",
   "execution_count": 340,
   "id": "83025ddd",
   "metadata": {},
   "outputs": [],
   "source": [
    "o.ackward()"
   ]
  },
  {
   "cell_type": "code",
   "execution_count": 341,
   "id": "61d42e86",
   "metadata": {},
   "outputs": [
    {
     "data": {
      "text/plain": [
       "1"
      ]
     },
     "execution_count": 341,
     "metadata": {},
     "output_type": "execute_result"
    }
   ],
   "source": [
    "o.grad\n"
   ]
  },
  {
   "cell_type": "code",
   "execution_count": 351,
   "id": "f13e5144",
   "metadata": {},
   "outputs": [
    {
     "data": {
      "text/plain": [
       "0.4999999999999999"
      ]
     },
     "execution_count": 351,
     "metadata": {},
     "output_type": "execute_result"
    }
   ],
   "source": [
    "b.grad"
   ]
  },
  {
   "cell_type": "code",
   "execution_count": 342,
   "id": "c9b6f4ea",
   "metadata": {},
   "outputs": [
    {
     "data": {
      "text/plain": [
       "0.0"
      ]
     },
     "execution_count": 342,
     "metadata": {},
     "output_type": "execute_result"
    }
   ],
   "source": [
    "w2.grad"
   ]
  },
  {
   "cell_type": "code",
   "execution_count": 343,
   "id": "6c1fe528",
   "metadata": {},
   "outputs": [
    {
     "data": {
      "text/plain": [
       "0.9999999999999998"
      ]
     },
     "execution_count": 343,
     "metadata": {},
     "output_type": "execute_result"
    }
   ],
   "source": [
    "w1.grad"
   ]
  },
  {
   "cell_type": "code",
   "execution_count": 344,
   "id": "d240b73e",
   "metadata": {},
   "outputs": [
    {
     "data": {
      "text/plain": [
       "0.4999999999999999"
      ]
     },
     "execution_count": 344,
     "metadata": {},
     "output_type": "execute_result"
    }
   ],
   "source": [
    "x2.grad"
   ]
  },
  {
   "cell_type": "code",
   "execution_count": 345,
   "id": "361f6ee9",
   "metadata": {},
   "outputs": [
    {
     "data": {
      "text/plain": [
       "-1.4999999999999996"
      ]
     },
     "execution_count": 345,
     "metadata": {},
     "output_type": "execute_result"
    }
   ],
   "source": [
    "x1.grad"
   ]
  },
  {
   "cell_type": "code",
   "execution_count": 346,
   "id": "3a47beb8",
   "metadata": {},
   "outputs": [
    {
     "data": {
      "text/plain": [
       "0.4999999999999999"
      ]
     },
     "execution_count": 346,
     "metadata": {},
     "output_type": "execute_result"
    }
   ],
   "source": [
    "x1w1.grad"
   ]
  },
  {
   "cell_type": "code",
   "execution_count": 347,
   "id": "c104c145",
   "metadata": {},
   "outputs": [
    {
     "data": {
      "text/plain": [
       "0.4999999999999999"
      ]
     },
     "execution_count": 347,
     "metadata": {},
     "output_type": "execute_result"
    }
   ],
   "source": [
    "x2w2.grad"
   ]
  },
  {
   "cell_type": "code",
   "execution_count": 348,
   "id": "35703841",
   "metadata": {},
   "outputs": [
    {
     "data": {
      "text/plain": [
       "0.4999999999999999"
      ]
     },
     "execution_count": 348,
     "metadata": {},
     "output_type": "execute_result"
    }
   ],
   "source": [
    "x1w1x2w2.grad"
   ]
  },
  {
   "cell_type": "code",
   "execution_count": 349,
   "id": "d13c62ea",
   "metadata": {},
   "outputs": [
    {
     "data": {
      "text/plain": [
       "0.4999999999999999"
      ]
     },
     "execution_count": 349,
     "metadata": {},
     "output_type": "execute_result"
    }
   ],
   "source": [
    "n.grad"
   ]
  },
  {
   "cell_type": "code",
   "execution_count": 350,
   "id": "e6fe8f9a",
   "metadata": {},
   "outputs": [
    {
     "data": {
      "text/plain": [
       "1"
      ]
     },
     "execution_count": 350,
     "metadata": {},
     "output_type": "execute_result"
    }
   ],
   "source": [
    "o.grad"
   ]
  },
  {
   "cell_type": "code",
   "execution_count": 316,
   "id": "3c8fb09a",
   "metadata": {},
   "outputs": [],
   "source": [
    "a = Value(3)\n",
    "b = Value(6)"
   ]
  },
  {
   "cell_type": "code",
   "execution_count": 317,
   "id": "cedf6785",
   "metadata": {},
   "outputs": [],
   "source": [
    "c = a / b"
   ]
  },
  {
   "cell_type": "code",
   "execution_count": 318,
   "id": "24781959",
   "metadata": {},
   "outputs": [
    {
     "data": {
      "text/plain": [
       "Value(data=0.5)"
      ]
     },
     "execution_count": 318,
     "metadata": {},
     "output_type": "execute_result"
    }
   ],
   "source": [
    "c"
   ]
  },
  {
   "cell_type": "code",
   "execution_count": 319,
   "id": "e4e24096",
   "metadata": {},
   "outputs": [],
   "source": [
    "c.backward()"
   ]
  },
  {
   "cell_type": "code",
   "execution_count": 320,
   "id": "fb9393a7",
   "metadata": {},
   "outputs": [
    {
     "data": {
      "text/plain": [
       "0.16666666666666666"
      ]
     },
     "execution_count": 320,
     "metadata": {},
     "output_type": "execute_result"
    }
   ],
   "source": [
    "a.grad"
   ]
  },
  {
   "cell_type": "code",
   "execution_count": 321,
   "id": "74d67065",
   "metadata": {},
   "outputs": [
    {
     "data": {
      "text/plain": [
       "-0.08333333333333333"
      ]
     },
     "execution_count": 321,
     "metadata": {},
     "output_type": "execute_result"
    }
   ],
   "source": [
    "b.grad"
   ]
  },
  {
   "cell_type": "code",
   "execution_count": 121,
   "id": "9e79397b",
   "metadata": {},
   "outputs": [
    {
     "data": {
      "text/plain": [
       "-3.0"
      ]
     },
     "execution_count": 121,
     "metadata": {},
     "output_type": "execute_result"
    }
   ],
   "source": [
    "-0.12*25"
   ]
  },
  {
   "cell_type": "code",
   "execution_count": 122,
   "id": "ad2e6b14",
   "metadata": {},
   "outputs": [
    {
     "data": {
      "text/plain": [
       "-0.12"
      ]
     },
     "execution_count": 122,
     "metadata": {},
     "output_type": "execute_result"
    }
   ],
   "source": [
    "-3/25"
   ]
  },
  {
   "cell_type": "code",
   "execution_count": null,
   "id": "c442cdc9",
   "metadata": {},
   "outputs": [],
   "source": []
  }
 ],
 "metadata": {
  "kernelspec": {
   "display_name": "Python 3 (ipykernel)",
   "language": "python",
   "name": "python3"
  },
  "language_info": {
   "codemirror_mode": {
    "name": "ipython",
    "version": 3
   },
   "file_extension": ".py",
   "mimetype": "text/x-python",
   "name": "python",
   "nbconvert_exporter": "python",
   "pygments_lexer": "ipython3",
   "version": "3.8.9"
  }
 },
 "nbformat": 4,
 "nbformat_minor": 5
}
